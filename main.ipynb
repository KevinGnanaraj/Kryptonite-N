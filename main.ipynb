{
 "cells": [
  {
   "cell_type": "code",
   "execution_count": null,
   "metadata": {},
   "outputs": [],
   "source": [
    "import torch\n",
    "import sklearn\n",
    "import numpy as np\n",
    "import pandas as pd\n",
    "from sklearn.model_selection import train_test_split\n",
    "import sklearn\n",
    "import matplotlib.pyplot as plt\n",
    "import torch\n"
   ]
  },
  {
   "cell_type": "markdown",
   "metadata": {},
   "source": [
    "## PLAN!!!\n",
    "\n",
    "### Things to do:\n",
    "- Could investigate the dataset(s), see if there is any pattern from plotting etc. (Seems quite dead)\n",
    "- Create models from list below:\n",
    "\n",
    "#### Models to consider\n",
    "- Polynomial Regression using Basis Expansion (Scikit-learn mostly)\n",
    "- Fully connected Neural Network (Probably PyTorch)\n",
    "- Investigate how to use ChatGPT or something\n",
    "- Support Vector Regression (Scikit-learn SVR)\n",
    "- Ensemble Method: Random Forest Regressor (Also scikit-learn probably)\n",
    "\n",
    "#### Considerations:\n",
    "- For each model, there are most likely hyperparameters that can be tuned.\n",
    "- E.g. polynomial regression can use L2 or L1 (or both) regularization to avoid overfitting, this has a parameter that can be tuned\n",
    "- Haven't looked into the others but probably just ask ChatGPT\n",
    "- Can use k-fold cross validation to validate hyper-parameters (or just use validation test set, k-fold would be more robust though)\n",
    "- Trial and error to find a decent starting point then search in the parameter space around it using for loops (GridSearch I guess)\n",
    "- HOPE IT WORKS!"
   ]
  },
  {
   "cell_type": "code",
   "execution_count": null,
   "metadata": {},
   "outputs": [],
   "source": [
    "# Data investigation\n",
    "def load_data(n_to_load):\n",
    "    # Possible n's include: 9, 12, 15, 18, 24, 30, 45.\n",
    "    X = np.load('Datasets/kryptonite-%s-X.npy'%(n_to_load))\n",
    "    y = np.load('Datasets/kryptonite-%s-y.npy'%(n_to_load))\n",
    "\n",
    "    for n in range(X.shape[1]):\n",
    "        print(X[:, n].shape)\n",
    "        y = np.arange(X.shape[0])\n",
    "        plt.scatter(y, X[:, n])\n",
    "        plt.show()\n",
    "        print(X.shape)\n",
    "        print(y.shape)\n",
    "\n",
    "    return X, y\n",
    "\n",
    "load_data(9)"
   ]
  },
  {
   "cell_type": "markdown",
   "metadata": {},
   "source": [
    "## Polynomial regression attempt\n",
    "\n",
    "Firstly start with polynomials of degree 2 (up to 3) since for datasets n=45, having larger order polynomials will probably cause the model to overfit.\n",
    "\n",
    "Add in regularization:\n",
    "- Could investigate using Ridge Regression (L2) or Lasso Regression (L1) individually and tune hyperparameters there.\n",
    "- Could investigate ElasticNet which combines both L2 and L1 regularisation "
   ]
  },
  {
   "cell_type": "code",
   "execution_count": null,
   "metadata": {},
   "outputs": [],
   "source": [
    "def polynomial_main(n, e):\n",
    "    pass\n",
    "\n"
   ]
  },
  {
   "cell_type": "code",
   "execution_count": null,
   "metadata": {},
   "outputs": [],
   "source": [
    "# Load data\n",
    "def main(n, e):\n",
    "    X = np.load('Datasets/kryptonite-%s-X.npy'%(n))\n",
    "    y = np.load('Datasets/kryptonite-%s-y.npy'%(n)) \n",
    "\n",
    "    X_train, X_temp, y_train, y_temp = train_test_split(X, y, test_size=0.6, random_state=42)  # 60% training\n",
    "    X_val, X_test, y_val, y_test = train_test_split(X_temp, y_temp, test_size=0.5, random_state=42)  # 20% validation, 20% test\n",
    "\n",
    "    main()\n",
    "    # Ideas to try:\n",
    "    # Polynomial Regression with Basis Expansion (?)\n",
    "    # Fully Connected Neural Network\n",
    "    # Support Vector Regression\n",
    "    # Random Forest Regression\n",
    "    # GPT-4?"
   ]
  }
 ],
 "metadata": {
  "kernelspec": {
   "display_name": "Python 3",
   "language": "python",
   "name": "python3"
  },
  "language_info": {
   "codemirror_mode": {
    "name": "ipython",
    "version": 3
   },
   "file_extension": ".py",
   "mimetype": "text/x-python",
   "name": "python",
   "nbconvert_exporter": "python",
   "pygments_lexer": "ipython3",
   "version": "3.11.0"
  }
 },
 "nbformat": 4,
 "nbformat_minor": 2
}
