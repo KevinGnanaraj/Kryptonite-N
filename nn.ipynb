{
 "cells": [
  {
   "cell_type": "code",
   "execution_count": 1,
   "metadata": {},
   "outputs": [],
   "source": [
    "import numpy as np\n",
    "import pandas as pd\n",
    "import torch\n",
    "import torch.nn as nn\n",
    "import torch.optim as optim\n",
    "import csv\n",
    "import os"
   ]
  },
  {
   "cell_type": "code",
   "execution_count": 2,
   "metadata": {},
   "outputs": [
    {
     "name": "stdout",
     "output_type": "stream",
     "text": [
      "Device: cpu\n"
     ]
    }
   ],
   "source": [
    "device = (\"cuda\" if torch.cuda.is_available() else \"cpu\")\n",
    "print('Device: ' + device)"
   ]
  },
  {
   "cell_type": "code",
   "execution_count": 40,
   "metadata": {},
   "outputs": [],
   "source": [
    "batch_size = 8\n",
    "n = 12\n",
    "\n",
    "x_file_path = 'Datasets/kryptonite-' + str(n) + '-X.npy'\n",
    "y_file_path = 'Datasets/kryptonite-' + str(n) + '-y.npy'"
   ]
  },
  {
   "cell_type": "code",
   "execution_count": 41,
   "metadata": {},
   "outputs": [
    {
     "name": "stdout",
     "output_type": "stream",
     "text": [
      "Row Count: 24000\n"
     ]
    }
   ],
   "source": [
    "x_raw = torch.tensor(np.load(x_file_path), dtype=torch.float32)\n",
    "y_raw = torch.tensor(np.load(y_file_path), dtype=torch.float32)\n",
    "\n",
    "# print(torch.unique(y_raw))\n",
    "\n",
    "row_count = x_raw.shape[0]\n",
    "print(f'Row Count: {row_count}')\n",
    "\n",
    "x_train, x_val = torch.tensor_split(x_raw, [round(row_count * 0.8)], dim=0)\n",
    "y_train, y_val = torch.tensor_split(y_raw, [round(row_count * 0.8)], dim=0)\n",
    "\n",
    "train_dataset = torch.utils.data.TensorDataset(x_train.to(device), y_train.to(device))\n",
    "val_dataset = torch.utils.data.TensorDataset(x_val.to(device), y_val.to(device))\n",
    "\n",
    "loaders = {\n",
    "            'train' : torch.utils.data.DataLoader(train_dataset, \n",
    "                                                batch_size=batch_size, \n",
    "                                                shuffle=True, \n",
    "                                                num_workers=1),\n",
    "            \n",
    "            'validation'  : torch.utils.data.DataLoader(val_dataset, \n",
    "                                                batch_size=batch_size, \n",
    "                                                shuffle=False, \n",
    "                                                num_workers=1),\n",
    "        }\n"
   ]
  },
  {
   "cell_type": "code",
   "execution_count": 42,
   "metadata": {},
   "outputs": [],
   "source": [
    "model_struct = [n, 15, 10, 4, 1]\n",
    "dropout = [0.0, 0.0, 0.0]\n",
    "\n",
    "class kryptonite_nn(nn.Module):\n",
    "    def __init__(self):\n",
    "        super().__init__()\n",
    "        self.layer1 = nn.Linear(model_struct[0], model_struct[1])\n",
    "        self.act1 = nn.ReLU()\n",
    "        # self.dropout1 = nn.Dropout(dropout[0])\n",
    "        self.layer2 = nn.Linear(model_struct[1], model_struct[2])\n",
    "        self.act2 = nn.ReLU()\n",
    "        # self.dropout2 = nn.Dropout(dropout[1])\n",
    "        self.layer3 = nn.Linear(model_struct[2], model_struct[3])\n",
    "        self.act3= nn.ReLU()\n",
    "        # self.dropout3 = nn.Dropout(dropout[2])\n",
    "        self.output = nn.Linear(model_struct[3], model_struct[4])\n",
    "        self.act_output = nn.Sigmoid()\n",
    "\n",
    "        # nn.init.xavier_normal_(self.layer1.weight)\n",
    "        # nn.init.zeros_(self.layer1.bias)\n",
    "\n",
    "        # nn.init.xavier_normal_(self.layer2.weight)\n",
    "        # nn.init.zeros_(self.layer2.bias)\n",
    "\n",
    "        # nn.init.xavier_normal_(self.layer3.weight)\n",
    "        # nn.init.zeros_(self.layer3.bias)\n",
    "\n",
    "        # nn.init.xavier_normal_(self.output.weight)\n",
    "        # nn.init.zeros_(self.output.bias)\n",
    " \n",
    "    def forward(self, x):\n",
    "        x = self.act1(self.layer1(x))\n",
    "        # x = self.dropout1(x)\n",
    "        x = self.act2(self.layer2(x))\n",
    "        # x = self.dropout2(x)\n",
    "        x = self.act3(self.layer3(x))\n",
    "        # x = self.dropout3(x)\n",
    "        # x = self.act4(self.layer4(x))\n",
    "        # x = self.dropout4(x)\n",
    "        x = self.act_output(self.output(x))\n",
    "        return x\n",
    " \n",
    "model = kryptonite_nn()\n",
    "# print(model)"
   ]
  },
  {
   "cell_type": "code",
   "execution_count": null,
   "metadata": {},
   "outputs": [
    {
     "name": "stdout",
     "output_type": "stream",
     "text": [
      "Finished epoch 0, epoch loss 0.6931842321654161\n",
      "Finished epoch 1, epoch loss 0.6931275175511837\n",
      "Finished epoch 2, epoch loss 0.693038446828723\n",
      "Finished epoch 3, epoch loss 0.6927361974865198\n",
      "Finished epoch 4, epoch loss 0.6905325878659884\n",
      "Finished epoch 5, epoch loss 0.6790708159903686\n",
      "Finished epoch 6, epoch loss 0.6563159806778034\n",
      "Finished epoch 7, epoch loss 0.597315891298155\n",
      "Finished epoch 8, epoch loss 0.5142883480216066\n",
      "Finished epoch 9, epoch loss 0.45554223915872477\n",
      "Finished epoch 10, epoch loss 0.41725617138668897\n",
      "Finished epoch 11, epoch loss 0.39114017246291044\n",
      "Finished epoch 12, epoch loss 0.3753508759910862\n",
      "Finished epoch 13, epoch loss 0.36789071863982825\n",
      "Finished epoch 14, epoch loss 0.3628425187058747\n",
      "Finished epoch 15, epoch loss 0.3575941683965114\n",
      "Finished epoch 16, epoch loss 0.35293609926632297\n",
      "Finished epoch 17, epoch loss 0.34754516202723607\n",
      "Finished epoch 18, epoch loss 0.3440100177540444\n",
      "Finished epoch 19, epoch loss 0.3401821779467476\n",
      "Finished epoch 20, epoch loss 0.33888865205536906\n",
      "Finished epoch 21, epoch loss 0.33670949877783035\n",
      "Finished epoch 22, epoch loss 0.3339743986562826\n",
      "Finished epoch 23, epoch loss 0.3303150513775957\n",
      "Finished epoch 24, epoch loss 0.3243257327315708\n"
     ]
    }
   ],
   "source": [
    "loss_func = 'BCE'           # Just used for recording in csv file\n",
    "optim_func = 'Adadelta'     # Just used for recording in csv file\n",
    "lr = 0.3\n",
    "\n",
    "loss_fn = nn.BCELoss()\n",
    "optimizer = optim.Adadelta(model.parameters(), lr=lr)\n",
    "\n",
    "n_epochs = 25\n",
    " \n",
    "for epoch in range(n_epochs):\n",
    "    loss_arr = []\n",
    "    for data in loaders['train']:\n",
    "        x_vals, labels = data\n",
    "        optimizer.zero_grad()\n",
    "        label_pred = model(x_vals)\n",
    "        labels = torch.reshape(labels, (batch_size, 1))\n",
    "        loss = loss_fn(label_pred, labels)\n",
    "        loss.backward()\n",
    "        optimizer.step()\n",
    "        loss_arr.append(loss.item())\n",
    "\n",
    "    print(f'Finished epoch {epoch}, epoch loss {np.average(loss_arr)}')"
   ]
  },
  {
   "cell_type": "code",
   "execution_count": 36,
   "metadata": {},
   "outputs": [
    {
     "name": "stdout",
     "output_type": "stream",
     "text": [
      "Training Accuracy: 0.9511111111111111\n"
     ]
    }
   ],
   "source": [
    "train_accuracy = np.array([])\n",
    "with torch.no_grad():\n",
    "    for data in loaders['train']:\n",
    "        x_vals, labels = data\n",
    "        output = model.forward(x_vals)\n",
    "\n",
    "        train_accuracy = np.concatenate((train_accuracy, torch.eq(torch.flatten(output.round()), labels).numpy() ))\n",
    "\n",
    "train_accuracy = train_accuracy.mean()\n",
    "\n",
    "print(f\"Training Accuracy: {train_accuracy}\")"
   ]
  },
  {
   "cell_type": "code",
   "execution_count": 37,
   "metadata": {},
   "outputs": [
    {
     "name": "stdout",
     "output_type": "stream",
     "text": [
      "Validation Accuracy: 0.9508333333333333\n"
     ]
    }
   ],
   "source": [
    "y_pred = np.array([])\n",
    "with torch.no_grad():\n",
    "    for data in loaders['validation']:\n",
    "        x_vals, labels = data\n",
    "        output = model.forward(x_vals)\n",
    "        # y_pred = np.concatenate((y_pred, output.numpy().flatten()))\n",
    "        y_pred = np.concatenate((y_pred, torch.eq(torch.flatten(output.round()), labels).numpy() ))\n",
    "\n",
    "val_accuracy = y_pred.mean()        \n",
    "# val_accuracy = (y_pred.round() == y_val).float().mean()\n",
    "print(f\"Validation Accuracy: {val_accuracy}\")"
   ]
  },
  {
   "cell_type": "code",
   "execution_count": 38,
   "metadata": {},
   "outputs": [],
   "source": [
    "# Save model params to csv file\n",
    "\n",
    "csv_file_path = 'nn_model_record.csv'\n",
    "\n",
    "fields = ['n', 'train_acc', 'val_acc', 'optim_func', 'learning_rate', 'loss_func', 'epochs', 'batch_size', 'model_struct', 'dropout']\n",
    "\n",
    "if not os.path.isfile(csv_file_path):\n",
    "    with open(csv_file_path, 'w', newline='') as csvfile:\n",
    "        csvwriter = csv.writer(csvfile)\n",
    "        csvwriter.writerow(fields)\n",
    "\n",
    "with open(csv_file_path, mode='a', newline='') as f:\n",
    "    writer = csv.writer(f)\n",
    "    writer.writerow([n, round(train_accuracy.item(), 3), round(val_accuracy.item(), 3), optim_func, lr, loss_func, n_epochs, batch_size, model_struct, dropout])\n",
    "\n",
    "    "
   ]
  },
  {
   "cell_type": "code",
   "execution_count": 39,
   "metadata": {},
   "outputs": [],
   "source": [
    "torch.save(model.state_dict(), 'Saved_Models/n-' + str(n) + '-' + str(round(val_accuracy.item(), 3))[2:] + '.pth')"
   ]
  }
 ],
 "metadata": {
  "kernelspec": {
   "display_name": ".venv",
   "language": "python",
   "name": "python3"
  },
  "language_info": {
   "codemirror_mode": {
    "name": "ipython",
    "version": 3
   },
   "file_extension": ".py",
   "mimetype": "text/x-python",
   "name": "python",
   "nbconvert_exporter": "python",
   "pygments_lexer": "ipython3",
   "version": "3.10.0"
  }
 },
 "nbformat": 4,
 "nbformat_minor": 2
}
